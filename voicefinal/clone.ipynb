{
 "cells": [
  {
   "cell_type": "code",
   "execution_count": 1,
   "id": "adda302c-60fa-4787-a33d-97be4a810efc",
   "metadata": {},
   "outputs": [],
   "source": [
    "import soundfile as sf\n",
    "import speech_recognition as sr\n",
    "import TTS\n",
    "import torch"
   ]
  },
  {
   "cell_type": "code",
   "execution_count": 2,
   "id": "14c5a472-6bd5-4971-ab3f-38685cd02ec8",
   "metadata": {},
   "outputs": [],
   "source": [
    "from TTS.api import TTS"
   ]
  },
  {
   "cell_type": "code",
   "execution_count": 3,
   "id": "5f77b72d-a9e5-43d7-8ad7-0065d057a10b",
   "metadata": {},
   "outputs": [
    {
     "name": "stdout",
     "output_type": "stream",
     "text": [
      " > tts_models/en/ljspeech/tacotron2-DDC is already downloaded.\n",
      " > vocoder_models/en/ljspeech/hifigan_v2 is already downloaded.\n",
      " > Using model: Tacotron2\n",
      " > Setting up Audio Processor...\n",
      " | > sample_rate:22050\n",
      " | > resample:False\n",
      " | > num_mels:80\n",
      " | > log_func:np.log\n",
      " | > min_level_db:-100\n",
      " | > frame_shift_ms:None\n",
      " | > frame_length_ms:None\n",
      " | > ref_level_db:20\n",
      " | > fft_size:1024\n",
      " | > power:1.5\n",
      " | > preemphasis:0.0\n",
      " | > griffin_lim_iters:60\n",
      " | > signal_norm:False\n",
      " | > symmetric_norm:True\n",
      " | > mel_fmin:0\n",
      " | > mel_fmax:8000.0\n",
      " | > pitch_fmin:1.0\n",
      " | > pitch_fmax:640.0\n",
      " | > spec_gain:1.0\n",
      " | > stft_pad_mode:reflect\n",
      " | > max_norm:4.0\n",
      " | > clip_norm:True\n",
      " | > do_trim_silence:True\n",
      " | > trim_db:60\n",
      " | > do_sound_norm:False\n",
      " | > do_amp_to_db_linear:True\n",
      " | > do_amp_to_db_mel:True\n",
      " | > do_rms_norm:False\n",
      " | > db_level:None\n",
      " | > stats_path:None\n",
      " | > base:2.718281828459045\n",
      " | > hop_length:256\n",
      " | > win_length:1024\n"
     ]
    },
    {
     "name": "stderr",
     "output_type": "stream",
     "text": [
      "C:\\Anaconda3\\envs\\speech_clone\\lib\\site-packages\\TTS\\utils\\io.py:54: FutureWarning: You are using `torch.load` with `weights_only=False` (the current default value), which uses the default pickle module implicitly. It is possible to construct malicious pickle data which will execute arbitrary code during unpickling (See https://github.com/pytorch/pytorch/blob/main/SECURITY.md#untrusted-models for more details). In a future release, the default value for `weights_only` will be flipped to `True`. This limits the functions that could be executed during unpickling. Arbitrary objects will no longer be allowed to be loaded via this mode unless they are explicitly allowlisted by the user via `torch.serialization.add_safe_globals`. We recommend you start setting `weights_only=True` for any use case where you don't have full control of the loaded file. Please open an issue on GitHub for any issues related to this experimental feature.\n",
      "  return torch.load(f, map_location=map_location, **kwargs)\n"
     ]
    },
    {
     "name": "stdout",
     "output_type": "stream",
     "text": [
      " > Model's reduction rate `r` is set to: 1\n",
      " > Vocoder Model: hifigan\n",
      " > Setting up Audio Processor...\n",
      " | > sample_rate:22050\n",
      " | > resample:False\n",
      " | > num_mels:80\n",
      " | > log_func:np.log\n",
      " | > min_level_db:-100\n",
      " | > frame_shift_ms:None\n",
      " | > frame_length_ms:None\n",
      " | > ref_level_db:20\n",
      " | > fft_size:1024\n",
      " | > power:1.5\n",
      " | > preemphasis:0.0\n",
      " | > griffin_lim_iters:60\n",
      " | > signal_norm:False\n",
      " | > symmetric_norm:True\n",
      " | > mel_fmin:0\n",
      " | > mel_fmax:8000.0\n",
      " | > pitch_fmin:1.0\n",
      " | > pitch_fmax:640.0\n",
      " | > spec_gain:1.0\n",
      " | > stft_pad_mode:reflect\n",
      " | > max_norm:4.0\n",
      " | > clip_norm:True\n",
      " | > do_trim_silence:False\n",
      " | > trim_db:60\n",
      " | > do_sound_norm:False\n",
      " | > do_amp_to_db_linear:True\n",
      " | > do_amp_to_db_mel:True\n",
      " | > do_rms_norm:False\n",
      " | > db_level:None\n",
      " | > stats_path:None\n",
      " | > base:2.718281828459045\n",
      " | > hop_length:256\n",
      " | > win_length:1024\n",
      " > Generator Model: hifigan_generator\n",
      " > Discriminator Model: hifigan_discriminator\n",
      "Removing weight norm...\n"
     ]
    }
   ],
   "source": [
    "model = TTS('tts_models/en/ljspeech/tacotron2-DDC', progress_bar=True, gpu=False)"
   ]
  },
  {
   "cell_type": "code",
   "execution_count": 4,
   "id": "34ab6348-7805-4b74-89d1-0b2534e5ce53",
   "metadata": {},
   "outputs": [],
   "source": [
    "# Recognize speech from input audio file\n",
    "def recognize_audio(file_path):\n",
    "    recognizer = sr.Recognizer()\n",
    "    with sr.AudioFile(file_path) as source:\n",
    "        audio = recognizer.record(source)\n",
    "    try:\n",
    "        text = recognizer.recognize_google(audio)\n",
    "        return text\n",
    "    except sr.UnknownValueError:\n",
    "        print(\"Google Speech Recognition could not understand the audio\")\n",
    "        return None\n",
    "    except sr.RequestError as e:\n",
    "        print(f\"Could not request results from Google Speech Recognition service; {e}\")\n",
    "        return None"
   ]
  },
  {
   "cell_type": "code",
   "execution_count": 5,
   "id": "ed0335d9-0f5e-4c5d-8d4c-9489473411b1",
   "metadata": {},
   "outputs": [],
   "source": [
    "# Clone voice by converting recognized text to speech\n",
    "def clone_voice(input_audio_path, output_audio_path):\n",
    "    # Step 1: Recognize the speech from the input audio\n",
    "    text = recognize_audio(input_audio_path)\n",
    "    \n",
    "    if text:  # Only proceed if text is recognized\n",
    "        # Step 2: Generate cloned voice from the recognized text\n",
    "        audio_output = model.tts(text)\n",
    "        \n",
    "        # Save the generated audio to a file\n",
    "        sf.write(output_audio_path, audio_output, 22050)\n",
    "        \n",
    "        print(f\"Voice cloned successfully. Output saved at: {output_audio_path}\")\n",
    "    else:\n",
    "        print(\"Failed to recognize speech, cannot clone voice.\")"
   ]
  },
  {
   "cell_type": "code",
   "execution_count": 6,
   "id": "55eff46b-dbf0-4f3f-8357-9ae994abdb75",
   "metadata": {},
   "outputs": [
    {
     "name": "stdout",
     "output_type": "stream",
     "text": [
      " > Text splitted to sentences.\n",
      "['it better works for image to process or happening here input image first convolutional layer Max pooling second convolutional layer average pooling third convolutional layer fully connected layer hidden layer dense layer non stationary series mean and variance is same over the period of time absence of time series analysis equal to seasonal plus string + noise null hypothesis alternative testing']\n",
      "it better works for image to process or happening here input image first convolutional layer max pooling second convolutional layer average pooling third convolutional layer fully connected layer hidden layer dense layer non stationary series mean and variance is same over the period of time absence of time series analysis equal to seasonal plus string + noise null hypothesis alternative testing\n",
      " [!] Character '+' not found in the vocabulary. Discarding it.\n",
      " > Processing time: 74.0941059589386\n",
      " > Real-time factor: 2.9100555665496954\n",
      "Voice cloned successfully. Output saved at: voiceoutput.wav\n"
     ]
    }
   ],
   "source": [
    "input_audio = 'voiceinput.wav'  # Path to your input audio\n",
    "output_audio = 'voiceoutput.wav'   # Path to save the cloned output\n",
    "clone_voice(input_audio, output_audio)"
   ]
  },
  {
   "cell_type": "code",
   "execution_count": null,
   "id": "50971f62-49f4-48ff-9a48-5823cfd5c93e",
   "metadata": {},
   "outputs": [],
   "source": []
  }
 ],
 "metadata": {
  "kernelspec": {
   "display_name": "Python (speech_clone)",
   "language": "python",
   "name": "speech_clone"
  },
  "language_info": {
   "codemirror_mode": {
    "name": "ipython",
    "version": 3
   },
   "file_extension": ".py",
   "mimetype": "text/x-python",
   "name": "python",
   "nbconvert_exporter": "python",
   "pygments_lexer": "ipython3",
   "version": "3.10.16"
  }
 },
 "nbformat": 4,
 "nbformat_minor": 5
}
